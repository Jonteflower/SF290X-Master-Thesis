{
 "cells": [
  {
   "cell_type": "code",
   "execution_count": 179,
   "metadata": {},
   "outputs": [],
   "source": [
    "%%capture\n",
    "%pip install pandas numpy matplotlib seaborn scipy scikit-learn statsmodels mpl_toolkits"
   ]
  },
  {
   "cell_type": "code",
   "execution_count": 180,
   "metadata": {},
   "outputs": [],
   "source": [
    "#### Import all the needed packages\n",
    "import matplotlib.pyplot as plt\n",
    "import numpy as np\n",
    "import pandas as pd\n",
    "import seaborn as sns\n",
    "import statsmodels.api as sm\n",
    "from mpl_toolkits.mplot3d import Axes3D  # Import the 3D plotting tool\n",
    "from scipy.optimize import curve_fit\n",
    "from scipy.stats import norm\n",
    "from sklearn.metrics import mean_squared_error, r2_score"
   ]
  },
  {
   "cell_type": "markdown",
   "metadata": {},
   "source": [
    "Reading and formatting the csv and dropping outliers "
   ]
  },
  {
   "cell_type": "code",
   "execution_count": 181,
   "metadata": {},
   "outputs": [],
   "source": [
    "csvFilePath = 'acc_data_200.csv'\n",
    "df = pd.read_csv(csvFilePath)\n",
    "\n",
    "### Standardized values\n",
    "q = 0\n",
    "r = 0.1 \n",
    "\n",
    "### Filter junk values and best_beta\n",
    "df = df[(df['best_beta'] >= 0.57)]\n",
    "\n",
    "### Make sure columns are numeric\n",
    "numeric_columns = ['T', 'm', 'sigma', 'H', 'S0', 'K', 'price_iter']\n",
    "for col in numeric_columns:\n",
    "    df[col] = pd.to_numeric(df[col], errors='coerce')\n",
    "\n",
    "## Add the new paremeters\n",
    "df['sigma_sqrt_T'] = df['sigma'] * np.sqrt(df['T']/df['m'])\n",
    "df['H_log'] = abs(np.log(df['H'] / df['S0']))\n"
   ]
  },
  {
   "cell_type": "markdown",
   "metadata": {},
   "source": [
    "Formula for calculating the proudct between sigma*sqrt(delta_T)"
   ]
  },
  {
   "cell_type": "code",
   "execution_count": 182,
   "metadata": {},
   "outputs": [],
   "source": [
    "def calc_product(sigma, T,m):\n",
    "    return sigma*np.sqrt(T/m)"
   ]
  },
  {
   "cell_type": "markdown",
   "metadata": {},
   "source": [
    "Formulas from the Book"
   ]
  },
  {
   "cell_type": "code",
   "execution_count": 183,
   "metadata": {},
   "outputs": [],
   "source": [
    "def get_parameter_values(S0, K, T, r, q, sigma): \n",
    "    # d1 and d2 \n",
    "    d1 = (np.log(S0/K) + (r - q + 0.5 * sigma**2) * T) / (sigma * np.sqrt(T))\n",
    "    d2 = d1 - sigma * np.sqrt(T)\n",
    "       \n",
    "    # Lambda value \n",
    "    lambda_ = (r - q + 0.5 * sigma**2) / sigma**2\n",
    "    \n",
    "    # Vanilla call value\n",
    "    c = S0 * np.exp(-q * T) * norm.cdf(d1) - K * np.exp(-r * T) * norm.cdf(d2) \n",
    "    \n",
    "    return lambda_, c\n",
    "\n",
    "def down_and_call_book(S0, K, T, r, q, sigma,H, H_down, H_up):\n",
    "    \n",
    "    # Values for the different functions \n",
    "    lambda_, c = get_parameter_values(S0, K, T, r, q, sigma)\n",
    "    \n",
    "    # Value for the down and out\n",
    "    y = np.log(H_down**2 / (S0*K)) / (sigma * np.sqrt(T)) + lambda_ * sigma * np.sqrt(T)\n",
    "    \n",
    "    # Values for the down and in \n",
    "    x1 = np.log(S0/H_up) / (sigma * np.sqrt(T)) + lambda_ * sigma * np.sqrt(T)\n",
    "    y1 = np.log(H_up/S0) / (sigma * np.sqrt(T)) + lambda_ * sigma * np.sqrt(T)\n",
    "\n",
    "    # Calculate option values for call\n",
    "    if H <= K:\n",
    "        #Down and out\n",
    "        cdi = S0 * np.exp(-q * T) * (H_down/S0)**(2*lambda_) * norm.cdf(y) - K * np.exp(-r * T) * (H_down/S0)**(2*lambda_ - 2) * norm.cdf(y - sigma * np.sqrt(T))\n",
    "        cdo = c  - cdi\n",
    "        return cdo\n",
    "    else:\n",
    "        #Down and in\n",
    "        cdo = S0 * np.exp(-q * T) * norm.cdf(x1) - K * np.exp(-r * T) * norm.cdf(x1 - sigma * np.sqrt(T)) \n",
    "        - S0 * np.exp(-q * T) * (H_up/S0)**(2*lambda_) * norm.cdf(y1) + K * np.exp(-r * T) * (H_up/S0)**(2*lambda_ - 2) * norm.cdf(y1 - sigma * np.sqrt(T))\n",
    "        cdi = c - cdo\n",
    "        \n",
    "        return cdi\n"
   ]
  },
  {
   "cell_type": "markdown",
   "metadata": {},
   "source": [
    "Regression formulas for the new barrier"
   ]
  },
  {
   "cell_type": "code",
   "execution_count": 184,
   "metadata": {},
   "outputs": [],
   "source": [
    "### Barrier engineer method\n",
    "def regression_beta_estimate(T, sigma, H, S0, m):\n",
    "    beta_start = 0.5826\n",
    "    Sigma_sqrt_T = sigma*np.sqrt(T/m)\n",
    "    H_log = np.log(H/S0)\n",
    "    \n",
    "    #### TODO find this as a function of \n",
    "    # beta_end = 7.1112e-01 / (1 + exp(-3.5196e+01(x - -5.5445e-02))) \n",
    "    beta_end =  0.71 / (1 + np.exp(-3.3*(Sigma_sqrt_T*10 + 0.55)))\n",
    "       \n",
    "    ### This is from the reg of increase point both Logistic and quadratic can be used\n",
    "    H_log_start = -0.145 / (1 + np.exp(-3.3*(Sigma_sqrt_T*10 - beta_start)))\n",
    "    #H_log_start =  - 9.5109e-02 / (1 + np.exp(-4.1247e+01*(Sigma_sqrt_T + 1.8610e+00)))  #(R² = 0.98)\n",
    "    #H_log_start = 1.0170e+00*Sigma_sqrt_T + 1.0947e-02\n",
    "    \n",
    "    # Convert back to H value    \n",
    "    H_end = np.log((S0 - 1)/S0)\n",
    "\n",
    "    # Start with a constant beta\n",
    "    beta = beta_start\n",
    "\n",
    "    # If we've reached the start of the increase, switch to the polynomial curve\n",
    "    if H_log >= H_log_start:\n",
    "        # These are placeholders and should be solved based on your specific conditions\n",
    "        a = (beta_end - beta_start) / ((H_end - H_log_start)**2)\n",
    "        b = -2 * a * H_log_start\n",
    "        c = beta_start + a * H_log_start**2\n",
    "        \n",
    "        # Polynomial growth formula\n",
    "        beta = a * H_log**2 + b * H_log + c\n",
    "\n",
    "    return beta\n",
    "\n",
    "\n",
    "# Function to adjust the barrier for discrete monitoring\n",
    "def adjusted_barrier_estimate(T, H, S0,sigma, m):\n",
    "    # dT should be here, it \"is the time between monitoring instants\", p.325, also stated in book from michael at p.628\n",
    "    delta_T = T / m\n",
    "    beta = regression_beta_estimate(T, sigma, H, S0, m)\n",
    "\n",
    "    ### adjust the beta value\n",
    "    H_adj_down = H * np.exp(-1 * beta * sigma * np.sqrt(delta_T))\n",
    "    H_adj_up = H * np.exp(beta * sigma * np.sqrt(delta_T))\n",
    "\n",
    "    return H_adj_down, H_adj_up"
   ]
  },
  {
   "cell_type": "markdown",
   "metadata": {},
   "source": [
    "Regression functions for the two models"
   ]
  },
  {
   "cell_type": "code",
   "execution_count": 185,
   "metadata": {},
   "outputs": [
    {
     "name": "stdout",
     "output_type": "stream",
     "text": [
      "Maximum Error - Original Method: 16.0385%, Max average: 12.6722 \n",
      "Maximum Error - Custom Engineer: 2.5249%, Max average: 0.5455\n"
     ]
    },
    {
     "data": {
      "image/png": "[encoded data removed]",
      "text/plain": [
       "<Figure size 864x576 with 1 Axes>"
      ]
     },
     "metadata": {
      "needs_background": "light"
     },
     "output_type": "display_data"
    }
   ],
   "source": [
    "# Initialize a list to store error calculations\n",
    "errors = []\n",
    "\n",
    "for index, row in df.iterrows(): \n",
    "    # Extract necessary values from the row\n",
    "    T, H, S0, K, sigma, m = row['T'], row['H'], row['S0'], row['K'], row['sigma'], row['m']\n",
    "    H_log = (np.log(row['H']/row['S0']))\n",
    "\n",
    "    # Engineering solution\n",
    "    beta_engineer = regression_beta_estimate(T, sigma, H, S0, m)  # Get beta for engineering estimate\n",
    "    H_down_engineer, H_up_engineer = adjusted_barrier_estimate(T, H, S0,sigma, m)\n",
    "    price_engineer = down_and_call_book(S0, K, T, r, q, sigma, H, H_down_engineer, H_up_engineer)\n",
    "    \n",
    "    # Assuming price_original and price_iter are columns in df representing original and Monte Carlo prices\n",
    "    price_mc = row['price_iter']\n",
    "    error_original = round(abs(((price_mc - row['price_adj']) / price_mc) * 100), 5)\n",
    "    error_estimate = round(abs(((price_mc - price_engineer) / price_mc) * 100), 5)\n",
    "        \n",
    "    errors.append({'H_log': H_log, 'Error': error_original, 'Type': 'Original'})\n",
    "    errors.append({'H_log': H_log, 'Error': error_estimate, 'Type': 'Thesis Estimate'})\n",
    "\n",
    "    best_beta = row['best_beta']\n",
    "\n",
    "# Convert errors list to DataFrame for plotting\n",
    "df_errors = pd.DataFrame(errors)\n",
    "\n",
    "# Aggregate errors by H_log and Type\n",
    "df_agg = df_errors.groupby(['H_log', 'Type'], as_index=False)['Error'].mean()\n",
    "\n",
    "# Find the maximum error values for each method\n",
    "max_error_original = df_errors[df_errors['Type'] == 'Original']['Error'].max()\n",
    "max_error_estimate = df_errors[df_errors['Type'] == 'Thesis Estimate']['Error'].max()\n",
    "\n",
    "print(f\"Maximum Error - Original Method: {max_error_original:.4f}%, Max average: {df_agg[df_agg['Type'] == 'Original']['Error'].max():.4f} \")\n",
    "print(f\"Maximum Error - Custom Engineer: {max_error_estimate:.4f}%, Max average: {df_agg[df_agg['Type'] == 'Thesis Estimate']['Error'].max():.4f}\")\n",
    "\n",
    "# Plotting\n",
    "plt.figure(figsize=(12, 8))\n",
    "sns.lineplot(data=df_agg, x='H_log', y='Error', hue='Type', style='Type', markers=True, dashes=False)\n",
    "plt.title('Aggregate Error vs. H_log')\n",
    "plt.xlabel('H_log')\n",
    "plt.ylabel('Error (%)')\n",
    "plt.legend(title='Solution Type')\n",
    "plt.show()"
   ]
  }
 ],
 "metadata": {
  "kernelspec": {
   "display_name": "Python 3",
   "language": "python",
   "name": "python3"
  },
  "language_info": {
   "codemirror_mode": {
    "name": "ipython",
    "version": 3
   },
   "file_extension": ".py",
   "mimetype": "text/x-python",
   "name": "python",
   "nbconvert_exporter": "python",
   "pygments_lexer": "ipython3",
   "version": "3.10.4"
  }
 },
 "nbformat": 4,
 "nbformat_minor": 2
}
